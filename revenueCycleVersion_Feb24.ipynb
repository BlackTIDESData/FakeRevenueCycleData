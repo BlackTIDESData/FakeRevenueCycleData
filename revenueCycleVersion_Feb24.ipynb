{
 "cells": [
  {
   "cell_type": "code",
   "execution_count": 8,
   "id": "e9e0ead9",
   "metadata": {},
   "outputs": [],
   "source": [
    "import pandas as pd\n",
    "import numpy as np"
   ]
  },
  {
   "cell_type": "code",
   "execution_count": 13,
   "id": "de935de7",
   "metadata": {},
   "outputs": [],
   "source": [
    "from datetime import datetime, timedelta"
   ]
  },
  {
   "cell_type": "code",
   "execution_count": 14,
   "id": "02d78b48",
   "metadata": {},
   "outputs": [
    {
     "data": {
      "text/html": [
       "<div>\n",
       "<style scoped>\n",
       "    .dataframe tbody tr th:only-of-type {\n",
       "        vertical-align: middle;\n",
       "    }\n",
       "\n",
       "    .dataframe tbody tr th {\n",
       "        vertical-align: top;\n",
       "    }\n",
       "\n",
       "    .dataframe thead th {\n",
       "        text-align: right;\n",
       "    }\n",
       "</style>\n",
       "<table border=\"1\" class=\"dataframe\">\n",
       "  <thead>\n",
       "    <tr style=\"text-align: right;\">\n",
       "      <th></th>\n",
       "      <th>Patient ID</th>\n",
       "      <th>Patient First Name</th>\n",
       "      <th>Patient Last Name</th>\n",
       "      <th>Visit Date</th>\n",
       "      <th>CPT Code</th>\n",
       "      <th>Charge Amt</th>\n",
       "    </tr>\n",
       "  </thead>\n",
       "  <tbody>\n",
       "    <tr>\n",
       "      <th>0</th>\n",
       "      <td>PAT-0001</td>\n",
       "      <td>Amber</td>\n",
       "      <td>Figueroa</td>\n",
       "      <td>2024-01-11</td>\n",
       "      <td>99203</td>\n",
       "      <td>361.79</td>\n",
       "    </tr>\n",
       "    <tr>\n",
       "      <th>1</th>\n",
       "      <td>PAT-0002</td>\n",
       "      <td>Shannon</td>\n",
       "      <td>Kirby</td>\n",
       "      <td>2023-12-27</td>\n",
       "      <td>99204</td>\n",
       "      <td>119.24</td>\n",
       "    </tr>\n",
       "    <tr>\n",
       "      <th>2</th>\n",
       "      <td>PAT-0003</td>\n",
       "      <td>Craig</td>\n",
       "      <td>Williams</td>\n",
       "      <td>2023-10-20</td>\n",
       "      <td>99204</td>\n",
       "      <td>853.14</td>\n",
       "    </tr>\n",
       "    <tr>\n",
       "      <th>3</th>\n",
       "      <td>PAT-0004</td>\n",
       "      <td>Michael</td>\n",
       "      <td>Murphy</td>\n",
       "      <td>2023-05-28</td>\n",
       "      <td>99205</td>\n",
       "      <td>271.83</td>\n",
       "    </tr>\n",
       "    <tr>\n",
       "      <th>4</th>\n",
       "      <td>PAT-0005</td>\n",
       "      <td>Katherine</td>\n",
       "      <td>Martinez</td>\n",
       "      <td>2023-07-04</td>\n",
       "      <td>99203</td>\n",
       "      <td>797.62</td>\n",
       "    </tr>\n",
       "  </tbody>\n",
       "</table>\n",
       "</div>"
      ],
      "text/plain": [
       "  Patient ID Patient First Name Patient Last Name  Visit Date CPT Code  \\\n",
       "0   PAT-0001              Amber          Figueroa  2024-01-11    99203   \n",
       "1   PAT-0002            Shannon             Kirby  2023-12-27    99204   \n",
       "2   PAT-0003              Craig          Williams  2023-10-20    99204   \n",
       "3   PAT-0004            Michael            Murphy  2023-05-28    99205   \n",
       "4   PAT-0005          Katherine          Martinez  2023-07-04    99203   \n",
       "\n",
       "   Charge Amt  \n",
       "0      361.79  \n",
       "1      119.24  \n",
       "2      853.14  \n",
       "3      271.83  \n",
       "4      797.62  "
      ]
     },
     "execution_count": 14,
     "metadata": {},
     "output_type": "execute_result"
    }
   ],
   "source": [
    "from faker import Faker\n",
    "\n",
    "# Initialize Faker to generate synthetic data\n",
    "fake = Faker()\n",
    "\n",
    "# Generate sample data for 100 entries\n",
    "n = 100\n",
    "data = {\n",
    "    \"Patient ID\": [f\"PAT-{i:04d}\" for i in range(1, n + 1)],\n",
    "    \"Patient First Name\": [fake.first_name() for _ in range(n)],\n",
    "    \"Patient Last Name\": [fake.last_name() for _ in range(n)],\n",
    "    \"Visit Date\": [(datetime.now() - timedelta(days=np.random.randint(1, 365))).date() for _ in range(n)],\n",
    "    \"CPT Code\": [np.random.choice([\"99213\", \"99214\", \"99203\", \"99204\", \"99205\"]) for _ in range(n)],  # Common CPT codes\n",
    "    \"Charge Amt\": [round(np.random.uniform(100, 1000), 2) for _ in range(n)],  # Random charge amount between $100 and $1000\n",
    "}\n",
    "\n",
    "# Create DataFrame\n",
    "df_healthcare = pd.DataFrame(data)\n",
    "\n",
    "# Display the first few rows of the dataset to ensure it's created correctly\n",
    "df_healthcare.head()\n"
   ]
  },
  {
   "cell_type": "code",
   "execution_count": null,
   "id": "fd046ce6",
   "metadata": {},
   "outputs": [],
   "source": []
  }
 ],
 "metadata": {
  "kernelspec": {
   "display_name": "Python 3 (ipykernel)",
   "language": "python",
   "name": "python3"
  },
  "language_info": {
   "codemirror_mode": {
    "name": "ipython",
    "version": 3
   },
   "file_extension": ".py",
   "mimetype": "text/x-python",
   "name": "python",
   "nbconvert_exporter": "python",
   "pygments_lexer": "ipython3",
   "version": "3.9.13"
  }
 },
 "nbformat": 4,
 "nbformat_minor": 5
}
